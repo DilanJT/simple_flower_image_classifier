{
 "cells": [
  {
   "cell_type": "code",
   "execution_count": 18,
   "metadata": {},
   "outputs": [],
   "source": [
    "from keras.preprocessing.image import ImageDataGenerator\n",
    "from keras.models import Sequential\n",
    "from keras.layers import Conv2D, MaxPooling2D\n",
    "from keras.layers import Activation, Dropout, Flatten, Dense\n",
    "from keras import backend as K"
   ]
  },
  {
   "cell_type": "code",
   "execution_count": 19,
   "metadata": {},
   "outputs": [],
   "source": [
    "# dimensions of our images.\n",
    "img_width, img_height = 150, 150"
   ]
  },
  {
   "cell_type": "code",
   "execution_count": 42,
   "metadata": {},
   "outputs": [],
   "source": [
    "train_data_dir = 'dataset/train'\n",
    "validation_data_dir = 'dataset/validation'\n",
    "nb_train_samples = 2036\n",
    "nb_validation_samples = 614\n",
    "epochs = 50\n",
    "batch_size = 16\n",
    "num_classes = 5"
   ]
  },
  {
   "cell_type": "code",
   "execution_count": 43,
   "metadata": {},
   "outputs": [],
   "source": [
    "if K.image_data_format() == 'channels_first':\n",
    "    input_shape = (3, img_width, img_height)\n",
    "else:\n",
    "    input_shape = (img_width, img_height, 3)"
   ]
  },
  {
   "cell_type": "code",
   "execution_count": 44,
   "metadata": {},
   "outputs": [],
   "source": [
    "model = Sequential()\n",
    "model.add(Conv2D(32, (3, 3), input_shape=input_shape))\n",
    "model.add(Activation('relu'))\n",
    "model.add(MaxPooling2D(pool_size=(2, 2)))"
   ]
  },
  {
   "cell_type": "code",
   "execution_count": 45,
   "metadata": {},
   "outputs": [],
   "source": [
    "model.add(Conv2D(32, (3, 3)))\n",
    "model.add(Activation('relu'))\n",
    "model.add(MaxPooling2D(pool_size=(2, 2)))\n",
    "\n",
    "model.add(Conv2D(64, (3, 3)))\n",
    "model.add(Activation('relu'))\n",
    "model.add(MaxPooling2D(pool_size=(2, 2)))\n",
    "\n",
    "model.add(Flatten())\n",
    "model.add(Dense(64))\n",
    "model.add(Activation('relu'))\n",
    "model.add(Dropout(0.5))\n",
    "model.add(Dense(num_classes))\n",
    "model.add(Activation('softmax'))"
   ]
  },
  {
   "cell_type": "code",
   "execution_count": 46,
   "metadata": {},
   "outputs": [],
   "source": [
    "model.compile(loss='categorical_crossentropy',\n",
    "              optimizer='adam',\n",
    "              metrics=['accuracy'])\n",
    "\n",
    "# this is the augmentation configuration we will use for training\n",
    "train_datagen = ImageDataGenerator(\n",
    "    rescale=1. / 255,\n",
    "    shear_range=0.2,\n",
    "    zoom_range=0.2,\n",
    "    horizontal_flip=True)\n",
    "\n",
    "# this is the augmentation configuration we will use for testing:\n",
    "# only rescaling\n",
    "test_datagen = ImageDataGenerator(rescale=1. / 255)\n"
   ]
  },
  {
   "cell_type": "code",
   "execution_count": 47,
   "metadata": {},
   "outputs": [
    {
     "name": "stdout",
     "output_type": "stream",
     "text": [
      "Found 2036 images belonging to 5 classes.\n",
      "Found 614 images belonging to 5 classes.\n"
     ]
    }
   ],
   "source": [
    "# this is the augmentation configuration we will use for training\n",
    "train_datagen = ImageDataGenerator(\n",
    "    rescale=1. / 255,\n",
    "    shear_range=0.2,\n",
    "    zoom_range=0.2,\n",
    "    horizontal_flip=True)\n",
    "\n",
    "# this is the augmentation configuration we will use for testing:\n",
    "# only rescaling\n",
    "test_datagen = ImageDataGenerator(rescale=1. / 255)\n",
    "\n",
    "train_generator = train_datagen.flow_from_directory(\n",
    "    train_data_dir,\n",
    "    target_size=(img_width, img_height),\n",
    "    batch_size=batch_size,\n",
    "    class_mode='categorical')\n",
    "\n",
    "validation_generator = test_datagen.flow_from_directory(\n",
    "    validation_data_dir,\n",
    "    target_size=(img_width, img_height),\n",
    "    batch_size=batch_size,\n",
    "    class_mode='categorical')"
   ]
  },
  {
   "cell_type": "code",
   "execution_count": null,
   "metadata": {},
   "outputs": [],
   "source": []
  },
  {
   "cell_type": "code",
   "execution_count": 48,
   "metadata": {},
   "outputs": [
    {
     "name": "stdout",
     "output_type": "stream",
     "text": [
      "Epoch 1/50\n",
      "127/127 [==============================] - 39s 311ms/step - loss: 0.9620 - accuracy: 0.6040 - val_loss: 1.0385 - val_accuracy: 0.5888\n",
      "Epoch 2/50\n",
      "127/127 [==============================] - 37s 292ms/step - loss: 0.7603 - accuracy: 0.7119 - val_loss: 0.7392 - val_accuracy: 0.7188\n",
      "Epoch 3/50\n",
      "127/127 [==============================] - 40s 312ms/step - loss: 0.6731 - accuracy: 0.7421 - val_loss: 0.8193 - val_accuracy: 0.6530\n",
      "Epoch 4/50\n",
      "127/127 [==============================] - 40s 312ms/step - loss: 0.6308 - accuracy: 0.7698 - val_loss: 0.8473 - val_accuracy: 0.6217\n",
      "Epoch 5/50\n",
      "127/127 [==============================] - 38s 303ms/step - loss: 0.5363 - accuracy: 0.8025 - val_loss: 1.0036 - val_accuracy: 0.6053\n",
      "Epoch 6/50\n",
      "127/127 [==============================] - 39s 311ms/step - loss: 0.5171 - accuracy: 0.7995 - val_loss: 0.7350 - val_accuracy: 0.6809\n",
      "Epoch 7/50\n",
      "127/127 [==============================] - 39s 305ms/step - loss: 0.4589 - accuracy: 0.8243 - val_loss: 0.6807 - val_accuracy: 0.7451\n",
      "Epoch 8/50\n",
      "127/127 [==============================] - 41s 326ms/step - loss: 0.4684 - accuracy: 0.8332 - val_loss: 0.6364 - val_accuracy: 0.7418\n",
      "Epoch 9/50\n",
      "127/127 [==============================] - 44s 344ms/step - loss: 0.4589 - accuracy: 0.8292 - val_loss: 0.6716 - val_accuracy: 0.7171\n",
      "Epoch 10/50\n",
      "127/127 [==============================] - 42s 329ms/step - loss: 0.4183 - accuracy: 0.8356 - val_loss: 0.8903 - val_accuracy: 0.6859\n",
      "Epoch 11/50\n",
      "127/127 [==============================] - 40s 316ms/step - loss: 0.3900 - accuracy: 0.8574 - val_loss: 0.6384 - val_accuracy: 0.7319\n",
      "Epoch 12/50\n",
      "127/127 [==============================] - 39s 308ms/step - loss: 0.3748 - accuracy: 0.8614 - val_loss: 0.6220 - val_accuracy: 0.7516\n",
      "Epoch 13/50\n",
      "127/127 [==============================] - 40s 318ms/step - loss: 0.3770 - accuracy: 0.8520 - val_loss: 0.8182 - val_accuracy: 0.7122\n",
      "Epoch 14/50\n",
      "127/127 [==============================] - 40s 313ms/step - loss: 0.3771 - accuracy: 0.8564 - val_loss: 0.6825 - val_accuracy: 0.7467\n",
      "Epoch 15/50\n",
      "127/127 [==============================] - 39s 307ms/step - loss: 0.3500 - accuracy: 0.8772 - val_loss: 0.5432 - val_accuracy: 0.7796\n",
      "Epoch 16/50\n",
      "127/127 [==============================] - 39s 307ms/step - loss: 0.3291 - accuracy: 0.8812 - val_loss: 0.6983 - val_accuracy: 0.7533\n",
      "Epoch 17/50\n",
      "127/127 [==============================] - 39s 309ms/step - loss: 0.3159 - accuracy: 0.8881 - val_loss: 0.7171 - val_accuracy: 0.7582\n",
      "Epoch 18/50\n",
      "127/127 [==============================] - 41s 323ms/step - loss: 0.3047 - accuracy: 0.8936 - val_loss: 0.6845 - val_accuracy: 0.7582\n",
      "Epoch 19/50\n",
      "127/127 [==============================] - 36s 287ms/step - loss: 0.2967 - accuracy: 0.8886 - val_loss: 0.8271 - val_accuracy: 0.7385\n",
      "Epoch 20/50\n",
      "127/127 [==============================] - 35s 273ms/step - loss: 0.3005 - accuracy: 0.8817 - val_loss: 0.6576 - val_accuracy: 0.7747\n",
      "Epoch 21/50\n",
      "127/127 [==============================] - 35s 275ms/step - loss: 0.2758 - accuracy: 0.8906 - val_loss: 0.6298 - val_accuracy: 0.7928\n",
      "Epoch 22/50\n",
      "127/127 [==============================] - 35s 278ms/step - loss: 0.2581 - accuracy: 0.9010 - val_loss: 0.5897 - val_accuracy: 0.8026\n",
      "Epoch 23/50\n",
      "127/127 [==============================] - 35s 273ms/step - loss: 0.2637 - accuracy: 0.8950 - val_loss: 0.6824 - val_accuracy: 0.7714\n",
      "Epoch 24/50\n",
      "127/127 [==============================] - 35s 272ms/step - loss: 0.3174 - accuracy: 0.8931 - val_loss: 0.6508 - val_accuracy: 0.7862\n",
      "Epoch 25/50\n",
      "127/127 [==============================] - 35s 272ms/step - loss: 0.2432 - accuracy: 0.9005 - val_loss: 0.8299 - val_accuracy: 0.7418\n",
      "Epoch 26/50\n",
      "127/127 [==============================] - 35s 276ms/step - loss: 0.2421 - accuracy: 0.9030 - val_loss: 0.7185 - val_accuracy: 0.7730\n",
      "Epoch 27/50\n",
      "127/127 [==============================] - 35s 275ms/step - loss: 0.2310 - accuracy: 0.9124 - val_loss: 0.6532 - val_accuracy: 0.7812\n",
      "Epoch 28/50\n",
      "127/127 [==============================] - 35s 274ms/step - loss: 0.2308 - accuracy: 0.9173 - val_loss: 0.7761 - val_accuracy: 0.7582\n",
      "Epoch 29/50\n",
      "127/127 [==============================] - 35s 273ms/step - loss: 0.2070 - accuracy: 0.9218 - val_loss: 0.7244 - val_accuracy: 0.7780\n",
      "Epoch 30/50\n",
      "127/127 [==============================] - 36s 282ms/step - loss: 0.2083 - accuracy: 0.9188 - val_loss: 1.1109 - val_accuracy: 0.7171\n",
      "Epoch 31/50\n",
      "127/127 [==============================] - 35s 276ms/step - loss: 0.1971 - accuracy: 0.9272 - val_loss: 0.6611 - val_accuracy: 0.8059\n",
      "Epoch 32/50\n",
      "127/127 [==============================] - 35s 274ms/step - loss: 0.1990 - accuracy: 0.9272 - val_loss: 0.6539 - val_accuracy: 0.8092\n",
      "Epoch 33/50\n",
      "127/127 [==============================] - 35s 274ms/step - loss: 0.1978 - accuracy: 0.9213 - val_loss: 0.6910 - val_accuracy: 0.7993\n",
      "Epoch 34/50\n",
      "127/127 [==============================] - 35s 275ms/step - loss: 0.2123 - accuracy: 0.9238 - val_loss: 0.8560 - val_accuracy: 0.7862\n",
      "Epoch 35/50\n",
      "127/127 [==============================] - 35s 274ms/step - loss: 0.1811 - accuracy: 0.9257 - val_loss: 0.6112 - val_accuracy: 0.8026\n",
      "Epoch 36/50\n",
      "127/127 [==============================] - 35s 275ms/step - loss: 0.1776 - accuracy: 0.9292 - val_loss: 0.8969 - val_accuracy: 0.7484\n",
      "Epoch 37/50\n",
      "127/127 [==============================] - 35s 274ms/step - loss: 0.1719 - accuracy: 0.9366 - val_loss: 0.8259 - val_accuracy: 0.7911\n",
      "Epoch 38/50\n",
      "127/127 [==============================] - 35s 275ms/step - loss: 0.1796 - accuracy: 0.9332 - val_loss: 0.7533 - val_accuracy: 0.7928\n",
      "Epoch 39/50\n",
      "127/127 [==============================] - 35s 276ms/step - loss: 0.1830 - accuracy: 0.9351 - val_loss: 0.7744 - val_accuracy: 0.7763\n",
      "Epoch 40/50\n",
      "127/127 [==============================] - 36s 281ms/step - loss: 0.1473 - accuracy: 0.9450 - val_loss: 0.7828 - val_accuracy: 0.8010\n",
      "Epoch 41/50\n",
      "127/127 [==============================] - 41s 325ms/step - loss: 0.1376 - accuracy: 0.9505 - val_loss: 0.8681 - val_accuracy: 0.8026\n",
      "Epoch 42/50\n",
      "127/127 [==============================] - 46s 361ms/step - loss: 0.1684 - accuracy: 0.9347 - val_loss: 0.6802 - val_accuracy: 0.8109\n",
      "Epoch 43/50\n",
      "127/127 [==============================] - 35s 278ms/step - loss: 0.1474 - accuracy: 0.9376 - val_loss: 0.8685 - val_accuracy: 0.7993\n",
      "Epoch 44/50\n",
      "127/127 [==============================] - 36s 281ms/step - loss: 0.1671 - accuracy: 0.9406 - val_loss: 0.7071 - val_accuracy: 0.8207\n",
      "Epoch 45/50\n",
      "127/127 [==============================] - 35s 278ms/step - loss: 0.1293 - accuracy: 0.9500 - val_loss: 0.8723 - val_accuracy: 0.7961\n",
      "Epoch 46/50\n",
      "127/127 [==============================] - 35s 277ms/step - loss: 0.1297 - accuracy: 0.9554 - val_loss: 1.0751 - val_accuracy: 0.7615\n",
      "Epoch 47/50\n",
      "127/127 [==============================] - 36s 283ms/step - loss: 0.1417 - accuracy: 0.9505 - val_loss: 0.8471 - val_accuracy: 0.7977\n",
      "Epoch 48/50\n",
      "127/127 [==============================] - 36s 282ms/step - loss: 0.1481 - accuracy: 0.9490 - val_loss: 0.8895 - val_accuracy: 0.7812\n",
      "Epoch 49/50\n",
      "127/127 [==============================] - 36s 280ms/step - loss: 0.1438 - accuracy: 0.9450 - val_loss: 1.1380 - val_accuracy: 0.7681\n",
      "Epoch 50/50\n",
      "127/127 [==============================] - 36s 280ms/step - loss: 0.1446 - accuracy: 0.9490 - val_loss: 0.9399 - val_accuracy: 0.7961\n"
     ]
    },
    {
     "data": {
      "text/plain": [
       "<tensorflow.python.keras.callbacks.History at 0x26b539f1b20>"
      ]
     },
     "execution_count": 48,
     "metadata": {},
     "output_type": "execute_result"
    }
   ],
   "source": [
    "model.fit_generator(\n",
    "    train_generator,\n",
    "    steps_per_epoch=nb_train_samples // batch_size,\n",
    "    epochs=epochs,\n",
    "    validation_data=validation_generator,\n",
    "    validation_steps=nb_validation_samples // batch_size)"
   ]
  },
  {
   "cell_type": "code",
   "execution_count": 49,
   "metadata": {},
   "outputs": [],
   "source": [
    "# model.save_weights(top_model_weights_path)\n",
    "# (eval_loss, eval_accuracy) = model.evaluate( \n",
    "#     validation_data, validation_labels, batch_size=batch_size,     verbose=1)\n",
    "\n",
    "# print(\"[INFO] accuracy: {:.2f}%\".format(eval_accuracy * 100)) \n",
    "# print(\"[INFO] Loss: {}\".format(eval_loss)) \n",
    "# end= datetime.datetime.now()\n",
    "# elapsed= end-start\n",
    "# print (\"Time: \", elapsed)\n",
    "\n",
    "model.save_weights(\"lilyora_first_test.h5\")"
   ]
  },
  {
   "cell_type": "code",
   "execution_count": null,
   "metadata": {},
   "outputs": [],
   "source": []
  }
 ],
 "metadata": {
  "kernelspec": {
   "display_name": "Python 3",
   "language": "python",
   "name": "python3"
  },
  "language_info": {
   "codemirror_mode": {
    "name": "ipython",
    "version": 3
   },
   "file_extension": ".py",
   "mimetype": "text/x-python",
   "name": "python",
   "nbconvert_exporter": "python",
   "pygments_lexer": "ipython3",
   "version": "3.8.3"
  }
 },
 "nbformat": 4,
 "nbformat_minor": 4
}
